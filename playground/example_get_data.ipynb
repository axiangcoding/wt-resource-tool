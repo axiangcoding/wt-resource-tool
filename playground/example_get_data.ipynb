{
 "cells": [
  {
   "cell_type": "markdown",
   "metadata": {},
   "source": [
    "# Example Python code to demonstrate the use of the `WTResourceTool` class"
   ]
  },
  {
   "cell_type": "code",
   "execution_count": 1,
   "metadata": {},
   "outputs": [],
   "source": [
    "from wt_resource_tool import WTResourceTool\n",
    "\n",
    "resource_tool = WTResourceTool()"
   ]
  },
  {
   "cell_type": "markdown",
   "metadata": {},
   "source": [
    "## Load parsed data"
   ]
  },
  {
   "cell_type": "code",
   "execution_count": 2,
   "metadata": {},
   "outputs": [
    {
     "name": "stderr",
     "output_type": "stream",
     "text": [
      "\u001b[32m2025-04-03 19:52:03.649\u001b[0m | \u001b[34m\u001b[1mDEBUG   \u001b[0m | \u001b[36mwt_resource_tool._client\u001b[0m:\u001b[36mload_parsed_data\u001b[0m:\u001b[36m64\u001b[0m - \u001b[34m\u001b[1mLoading player title data from https://cdn.jsdelivr.net/gh/axiangcoding/wt-resource-tool/static/latest/player_title.json\u001b[0m\n",
      "\u001b[32m2025-04-03 19:52:04.869\u001b[0m | \u001b[34m\u001b[1mDEBUG   \u001b[0m | \u001b[36mwt_resource_tool._client\u001b[0m:\u001b[36mload_parsed_data\u001b[0m:\u001b[36m70\u001b[0m - \u001b[34m\u001b[1mLoading player medal data from https://cdn.jsdelivr.net/gh/axiangcoding/wt-resource-tool/static/latest/player_medal.json\u001b[0m\n",
      "\u001b[32m2025-04-03 19:52:05.991\u001b[0m | \u001b[34m\u001b[1mDEBUG   \u001b[0m | \u001b[36mwt_resource_tool._client\u001b[0m:\u001b[36mload_parsed_data\u001b[0m:\u001b[36m77\u001b[0m - \u001b[34m\u001b[1mLoading vehicle data from https://cdn.jsdelivr.net/gh/axiangcoding/wt-resource-tool/static/latest/vehicle.json\u001b[0m\n",
      "\u001b[32m2025-04-03 19:52:08.561\u001b[0m | \u001b[34m\u001b[1mDEBUG   \u001b[0m | \u001b[36mwt_resource_tool._client\u001b[0m:\u001b[36mload_parsed_data\u001b[0m:\u001b[36m82\u001b[0m - \u001b[34m\u001b[1mLoaded data in 4.91 seconds\u001b[0m\n"
     ]
    }
   ],
   "source": [
    "await resource_tool.load_parsed_data(\n",
    "    data_types=[\"player_title\", \"player_medal\", \"vehicle\"],\n",
    "    game_version=\"latest\",\n",
    "    # you can use \"github\" if you can access the github repo directly\n",
    "    # or \"github-jsdelivr\" if you want to use jsdelivr CDN\n",
    "    source=\"github-jsdelivr\",\n",
    ")"
   ]
  },
  {
   "cell_type": "code",
   "execution_count": 3,
   "metadata": {},
   "outputs": [
    {
     "data": {
      "text/plain": [
       "{'player_title': '2.45.0.23',\n",
       " 'player_medal': '2.45.0.23',\n",
       " 'vehicle': '2.45.0.23'}"
      ]
     },
     "execution_count": 3,
     "metadata": {},
     "output_type": "execute_result"
    }
   ],
   "source": [
    "await resource_tool.get_loaded_data_version()"
   ]
  },
  {
   "cell_type": "code",
   "execution_count": 4,
   "metadata": {},
   "outputs": [
    {
     "name": "stdout",
     "output_type": "stream",
     "text": [
      "title_god_of_war\n",
      "God of War\n",
      "战争教父\n"
     ]
    }
   ],
   "source": [
    "title = await resource_tool.get_title(\"title_god_of_war\")\n",
    "print(title.id)\n",
    "print(title.english)\n",
    "print(title.chinese)"
   ]
  },
  {
   "cell_type": "code",
   "execution_count": 5,
   "metadata": {},
   "outputs": [
    {
     "name": "stdout",
     "output_type": "stream",
     "text": [
      "fr_liberated_medal\n",
      "Medal of a liberated France\n",
      "来自受解放法国的感谢奖章\n",
      "https://cdn.jsdelivr.net/gh/gszabi99/War-Thunder-Datamine@refs/heads/master/atlases.vromfs.bin_u/medals/fr_liberated_medal.png\n",
      "https://cdn.jsdelivr.net/gh/gszabi99/War-Thunder-Datamine@refs/heads/master/atlases.vromfs.bin_u/medals/fr_liberated_medal_ribbon.png\n"
     ]
    },
    {
     "data": {
      "text/html": [
       "<img src=\"https://cdn.jsdelivr.net/gh/gszabi99/War-Thunder-Datamine@refs/heads/master/atlases.vromfs.bin_u/medals/fr_liberated_medal.png\"/>"
      ],
      "text/plain": [
       "<IPython.core.display.Image object>"
      ]
     },
     "metadata": {},
     "output_type": "display_data"
    },
    {
     "data": {
      "text/html": [
       "<img src=\"https://cdn.jsdelivr.net/gh/gszabi99/War-Thunder-Datamine@refs/heads/master/atlases.vromfs.bin_u/medals/fr_liberated_medal_ribbon.png\"/>"
      ],
      "text/plain": [
       "<IPython.core.display.Image object>"
      ]
     },
     "metadata": {},
     "output_type": "display_data"
    }
   ],
   "source": [
    "from IPython.display import Image, display\n",
    "\n",
    "url = \"https://example.com/image.jpg\"\n",
    "\n",
    "\n",
    "medal = await resource_tool.get_medal(\"fr_liberated_medal\")\n",
    "print(medal.id)\n",
    "print(medal.english)\n",
    "print(medal.chinese)\n",
    "print(medal.get_image_url())\n",
    "print(medal.get_image_url(mode=\"ribbon\"))\n",
    "\n",
    "display(Image(url=medal.get_image_url()))\n",
    "display(Image(url=medal.get_image_url(mode=\"ribbon\")))"
   ]
  },
  {
   "cell_type": "code",
   "execution_count": 6,
   "metadata": {},
   "outputs": [
    {
     "name": "stdout",
     "output_type": "stream",
     "text": [
      "cn_ztz_99a\n",
      "8\n",
      "33\n"
     ]
    },
    {
     "data": {
      "text/html": [
       "<img src=\"https://cdn.jsdelivr.net/gh/gszabi99/War-Thunder-Datamine@refs/heads/master/atlases.vromfs.bin_u/units/cn_ztz_99a.png\"/>"
      ],
      "text/plain": [
       "<IPython.core.display.Image object>"
      ]
     },
     "metadata": {},
     "output_type": "display_data"
    }
   ],
   "source": [
    "vehicle = await resource_tool.get_vehicle(\"cn_ztz_99a\")\n",
    "print(vehicle.id)\n",
    "print(vehicle.rank)\n",
    "print(vehicle.economic_rank_historical)\n",
    "\n",
    "display(Image(url=vehicle.get_icon_url()))"
   ]
  },
  {
   "cell_type": "markdown",
   "metadata": {},
   "source": [
    "## Parse and load the data"
   ]
  },
  {
   "cell_type": "code",
   "execution_count": 7,
   "metadata": {},
   "outputs": [
    {
     "name": "stderr",
     "output_type": "stream",
     "text": [
      "\u001b[32m2025-04-03 19:52:08.619\u001b[0m | \u001b[34m\u001b[1mDEBUG   \u001b[0m | \u001b[36mwt_resource_tool._client\u001b[0m:\u001b[36mparse_and_load_data\u001b[0m:\u001b[36m106\u001b[0m - \u001b[34m\u001b[1mParsing player title data from E:\\Projects\\axbot-qq\\data\\repos\\War-Thunder-Datamine\u001b[0m\n",
      "\u001b[32m2025-04-03 19:52:08.632\u001b[0m | \u001b[34m\u001b[1mDEBUG   \u001b[0m | \u001b[36mwt_resource_tool._client\u001b[0m:\u001b[36mparse_and_load_data\u001b[0m:\u001b[36m110\u001b[0m - \u001b[34m\u001b[1mParsing player medal data from E:\\Projects\\axbot-qq\\data\\repos\\War-Thunder-Datamine\u001b[0m\n",
      "\u001b[32m2025-04-03 19:52:08.680\u001b[0m | \u001b[34m\u001b[1mDEBUG   \u001b[0m | \u001b[36mwt_resource_tool._client\u001b[0m:\u001b[36mparse_and_load_data\u001b[0m:\u001b[36m114\u001b[0m - \u001b[34m\u001b[1mParsing vehicle data from E:\\Projects\\axbot-qq\\data\\repos\\War-Thunder-Datamine\u001b[0m\n",
      "\u001b[32m2025-04-03 19:52:08.946\u001b[0m | \u001b[33m\u001b[1mWARNING \u001b[0m | \u001b[36mwt_resource_tool.parser.vehicle_data_parser\u001b[0m:\u001b[36mparse_vehicle_data\u001b[0m:\u001b[36m59\u001b[0m - \u001b[33m\u001b[1mkey economicRankMax is not a dict, skip.\u001b[0m\n",
      "\u001b[32m2025-04-03 19:52:09.016\u001b[0m | \u001b[34m\u001b[1mDEBUG   \u001b[0m | \u001b[36mwt_resource_tool._client\u001b[0m:\u001b[36mparse_and_load_data\u001b[0m:\u001b[36m118\u001b[0m - \u001b[34m\u001b[1mParsed data in 0.4 seconds\u001b[0m\n"
     ]
    }
   ],
   "source": [
    "import os\n",
    "\n",
    "from dotenv import load_dotenv\n",
    "\n",
    "load_dotenv()\n",
    "\n",
    "local_repo_path = os.environ[\"DATAMINE_REPO_PATH\"]\n",
    "\n",
    "await resource_tool.parse_and_load_data(\n",
    "    data_types=[\"player_title\", \"player_medal\", \"vehicle\"],\n",
    "    local_repo_path=local_repo_path,\n",
    ")"
   ]
  },
  {
   "cell_type": "code",
   "execution_count": 8,
   "metadata": {},
   "outputs": [
    {
     "name": "stdout",
     "output_type": "stream",
     "text": [
      "cn_ztz_99_w\n",
      "7\n",
      "30\n"
     ]
    },
    {
     "data": {
      "text/html": [
       "<img src=\"https://cdn.jsdelivr.net/gh/gszabi99/War-Thunder-Datamine@refs/heads/master/atlases.vromfs.bin_u/units/cn_ztz_99_w.png\"/>"
      ],
      "text/plain": [
       "<IPython.core.display.Image object>"
      ]
     },
     "metadata": {},
     "output_type": "display_data"
    }
   ],
   "source": [
    "vehicle = await resource_tool.get_vehicle(\"cn_ztz_99_w\")\n",
    "print(vehicle.id)\n",
    "print(vehicle.rank)\n",
    "print(vehicle.economic_rank_historical)\n",
    "\n",
    "display(Image(url=vehicle.get_icon_url()))"
   ]
  }
 ],
 "metadata": {
  "kernelspec": {
   "display_name": ".venv",
   "language": "python",
   "name": "python3"
  },
  "language_info": {
   "codemirror_mode": {
    "name": "ipython",
    "version": 3
   },
   "file_extension": ".py",
   "mimetype": "text/x-python",
   "name": "python",
   "nbconvert_exporter": "python",
   "pygments_lexer": "ipython3",
   "version": "3.12.4"
  }
 },
 "nbformat": 4,
 "nbformat_minor": 2
}
