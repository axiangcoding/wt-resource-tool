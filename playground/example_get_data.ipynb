{
 "cells": [
  {
   "cell_type": "code",
   "execution_count": 8,
   "metadata": {},
   "outputs": [],
   "source": [
    "from wt_resource_tool import WTResourceTool\n",
    "from wt_resource_tool._client import DataType\n",
    "\n",
    "resource_tool = WTResourceTool(game_version=\"latest\")\n",
    "\n",
    "# if you can't access github, you can use github-jsdelivr\n",
    "await resource_tool.load_data(source=\"github-jsdelivr\", datas=[\"player_title\", \"player_medal\", \"vehicle\"])"
   ]
  },
  {
   "cell_type": "code",
   "execution_count": 9,
   "metadata": {},
   "outputs": [
    {
     "data": {
      "text/plain": [
       "{'player_title': '2.45.0.23', 'player_medal': '2.45.0.23'}"
      ]
     },
     "execution_count": 9,
     "metadata": {},
     "output_type": "execute_result"
    }
   ],
   "source": [
    "await resource_tool.get_loaded_data_version()"
   ]
  },
  {
   "cell_type": "code",
   "execution_count": 10,
   "metadata": {},
   "outputs": [
    {
     "name": "stdout",
     "output_type": "stream",
     "text": [
      "title_god_of_war\n",
      "God of War\n",
      "战争教父\n"
     ]
    }
   ],
   "source": [
    "title = await resource_tool.get_title(\"title_god_of_war\")\n",
    "print(title.id)\n",
    "print(title.english)\n",
    "print(title.chinese)"
   ]
  },
  {
   "cell_type": "code",
   "execution_count": 11,
   "metadata": {},
   "outputs": [
    {
     "name": "stdout",
     "output_type": "stream",
     "text": [
      "fr_liberated_medal\n",
      "Medal of a liberated France\n",
      "来自受解放法国的感谢奖章\n",
      "https://cdn.jsdelivr.net/gh/gszabi99/War-Thunder-Datamine@refs/heads/master/atlases.vromfs.bin_u/medals/fr_liberated_medal.png\n",
      "https://cdn.jsdelivr.net/gh/gszabi99/War-Thunder-Datamine@refs/heads/master/atlases.vromfs.bin_u/medals/fr_liberated_medal_ribbon.png\n"
     ]
    },
    {
     "data": {
      "text/html": [
       "<img src=\"https://cdn.jsdelivr.net/gh/gszabi99/War-Thunder-Datamine@refs/heads/master/atlases.vromfs.bin_u/medals/fr_liberated_medal.png\"/>"
      ],
      "text/plain": [
       "<IPython.core.display.Image object>"
      ]
     },
     "metadata": {},
     "output_type": "display_data"
    },
    {
     "data": {
      "text/html": [
       "<img src=\"https://cdn.jsdelivr.net/gh/gszabi99/War-Thunder-Datamine@refs/heads/master/atlases.vromfs.bin_u/medals/fr_liberated_medal_ribbon.png\"/>"
      ],
      "text/plain": [
       "<IPython.core.display.Image object>"
      ]
     },
     "metadata": {},
     "output_type": "display_data"
    }
   ],
   "source": [
    "from IPython.display import Image, display\n",
    "\n",
    "url = \"https://example.com/image.jpg\"\n",
    "\n",
    "\n",
    "medal = await resource_tool.get_medal(\"fr_liberated_medal\")\n",
    "print(medal.id)\n",
    "print(medal.english)\n",
    "print(medal.chinese)\n",
    "print(medal.get_image_url())\n",
    "print(medal.get_image_url(mode=\"ribbon\"))\n",
    "\n",
    "display(Image(url=medal.get_image_url()))\n",
    "display(Image(url=medal.get_image_url(mode=\"ribbon\")))"
   ]
  },
  {
   "cell_type": "code",
   "execution_count": 12,
   "metadata": {},
   "outputs": [
    {
     "name": "stdout",
     "output_type": "stream",
     "text": [
      "cn_ztz_99a\n",
      "8\n",
      "33\n"
     ]
    },
    {
     "data": {
      "text/html": [
       "<img src=\"https://cdn.jsdelivr.net/gh/gszabi99/War-Thunder-Datamine@refs/heads/master/atlases.vromfs.bin_u/units/cn_ztz_99a.png\"/>"
      ],
      "text/plain": [
       "<IPython.core.display.Image object>"
      ]
     },
     "metadata": {},
     "output_type": "display_data"
    }
   ],
   "source": [
    "vehicle = await resource_tool.get_vehicle(\"cn_ztz_99a\")\n",
    "print(vehicle.id)\n",
    "print(vehicle.rank)\n",
    "print(vehicle.economic_rank_historical)\n",
    "\n",
    "display(Image(url=vehicle.get_icon_url()))"
   ]
  }
 ],
 "metadata": {
  "kernelspec": {
   "display_name": ".venv",
   "language": "python",
   "name": "python3"
  },
  "language_info": {
   "codemirror_mode": {
    "name": "ipython",
    "version": 3
   },
   "file_extension": ".py",
   "mimetype": "text/x-python",
   "name": "python",
   "nbconvert_exporter": "python",
   "pygments_lexer": "ipython3",
   "version": "3.12.9"
  }
 },
 "nbformat": 4,
 "nbformat_minor": 2
}
