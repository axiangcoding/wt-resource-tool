{
 "cells": [
  {
   "cell_type": "markdown",
   "metadata": {},
   "source": [
    "# Example Python code to demonstrate the use of the `WTResourceToolMemory` class"
   ]
  },
  {
   "cell_type": "code",
   "execution_count": 1,
   "metadata": {},
   "outputs": [],
   "source": [
    "from wt_resource_tool import WTResourceToolMemory\n",
    "\n",
    "resource_tool = WTResourceToolMemory()"
   ]
  },
  {
   "cell_type": "markdown",
   "metadata": {},
   "source": [
    "## Parse and load the data"
   ]
  },
  {
   "cell_type": "code",
   "execution_count": 2,
   "metadata": {},
   "outputs": [
    {
     "name": "stderr",
     "output_type": "stream",
     "text": [
      "\u001b[32m2025-04-16 00:17:23.559\u001b[0m | \u001b[34m\u001b[1mDEBUG   \u001b[0m | \u001b[36mwt_resource_tool._client\u001b[0m:\u001b[36mparse_and_load_data\u001b[0m:\u001b[36m51\u001b[0m - \u001b[34m\u001b[1mParsing player title data from E:\\Projects\\axbot-qq\\data\\repos\\War-Thunder-Datamine\u001b[0m\n",
      "\u001b[32m2025-04-16 00:17:23.607\u001b[0m | \u001b[34m\u001b[1mDEBUG   \u001b[0m | \u001b[36mwt_resource_tool._client\u001b[0m:\u001b[36mparse_and_load_data\u001b[0m:\u001b[36m56\u001b[0m - \u001b[34m\u001b[1mParsing player medal data from E:\\Projects\\axbot-qq\\data\\repos\\War-Thunder-Datamine\u001b[0m\n",
      "\u001b[32m2025-04-16 00:17:23.614\u001b[0m | \u001b[34m\u001b[1mDEBUG   \u001b[0m | \u001b[36mwt_resource_tool._client\u001b[0m:\u001b[36mparse_and_load_data\u001b[0m:\u001b[36m61\u001b[0m - \u001b[34m\u001b[1mParsing vehicle data from E:\\Projects\\axbot-qq\\data\\repos\\War-Thunder-Datamine\u001b[0m\n",
      "\u001b[32m2025-04-16 00:17:23.854\u001b[0m | \u001b[33m\u001b[1mWARNING \u001b[0m | \u001b[36mwt_resource_tool.parser.vehicle_data_parser\u001b[0m:\u001b[36mparse_vehicle_data\u001b[0m:\u001b[36m59\u001b[0m - \u001b[33m\u001b[1mkey economicRankMax is not a dict, so it's not vehicle data, skip\u001b[0m\n",
      "\u001b[32m2025-04-16 00:17:23.964\u001b[0m | \u001b[34m\u001b[1mDEBUG   \u001b[0m | \u001b[36mwt_resource_tool._client\u001b[0m:\u001b[36mparse_and_load_data\u001b[0m:\u001b[36m66\u001b[0m - \u001b[34m\u001b[1mParsed data in 0.41 seconds\u001b[0m\n"
     ]
    }
   ],
   "source": [
    "import os\n",
    "\n",
    "from dotenv import load_dotenv\n",
    "\n",
    "load_dotenv()\n",
    "\n",
    "local_repo_path = os.environ[\"DATAMINE_REPO_PATH\"]\n",
    "\n",
    "await resource_tool.parse_and_load_data(\n",
    "    data_types=[\"player_title\", \"player_medal\", \"vehicle\"],\n",
    "    local_repo_path=local_repo_path,\n",
    ")"
   ]
  },
  {
   "cell_type": "code",
   "execution_count": 3,
   "metadata": {},
   "outputs": [
    {
     "data": {
      "text/plain": [
       "'2.45.1.39'"
      ]
     },
     "execution_count": 3,
     "metadata": {},
     "output_type": "execute_result"
    }
   ],
   "source": [
    "resource_tool.player_title_latest_version"
   ]
  },
  {
   "cell_type": "code",
   "execution_count": 4,
   "metadata": {},
   "outputs": [
    {
     "name": "stdout",
     "output_type": "stream",
     "text": [
      "title_god_of_war\n",
      "God of War\n",
      "战争教父\n"
     ]
    }
   ],
   "source": [
    "title = await resource_tool.get_title(\"title_god_of_war\")\n",
    "print(title.title_id)\n",
    "print(title.name_i18n.english)\n",
    "print(title.name_i18n.chinese)"
   ]
  },
  {
   "cell_type": "code",
   "execution_count": 5,
   "metadata": {},
   "outputs": [
    {
     "name": "stdout",
     "output_type": "stream",
     "text": [
      "fr_liberated_medal\n",
      "country_france\n",
      "Medal of a liberated France\n",
      "来自受解放法国的感谢奖章\n",
      "https://cdn.jsdelivr.net/gh/gszabi99/War-Thunder-Datamine@refs/heads/master/atlases.vromfs.bin_u/medals/fr_liberated_medal.png\n",
      "https://cdn.jsdelivr.net/gh/gszabi99/War-Thunder-Datamine@refs/heads/master/atlases.vromfs.bin_u/medals/fr_liberated_medal_ribbon.png\n"
     ]
    },
    {
     "data": {
      "text/html": [
       "<img src=\"https://cdn.jsdelivr.net/gh/gszabi99/War-Thunder-Datamine@refs/heads/master/atlases.vromfs.bin_u/medals/fr_liberated_medal.png\"/>"
      ],
      "text/plain": [
       "<IPython.core.display.Image object>"
      ]
     },
     "metadata": {},
     "output_type": "display_data"
    },
    {
     "data": {
      "text/html": [
       "<img src=\"https://cdn.jsdelivr.net/gh/gszabi99/War-Thunder-Datamine@refs/heads/master/atlases.vromfs.bin_u/medals/fr_liberated_medal_ribbon.png\"/>"
      ],
      "text/plain": [
       "<IPython.core.display.Image object>"
      ]
     },
     "metadata": {},
     "output_type": "display_data"
    }
   ],
   "source": [
    "from IPython.display import Image, display\n",
    "\n",
    "url = \"https://example.com/image.jpg\"\n",
    "\n",
    "\n",
    "medal = await resource_tool.get_medal(\"fr_liberated_medal\")\n",
    "print(medal.medal_id)\n",
    "print(medal.country)\n",
    "print(medal.name_i18n.english)\n",
    "print(medal.name_i18n.chinese)\n",
    "print(medal.get_image_url())\n",
    "print(medal.get_image_url(mode=\"ribbon\"))\n",
    "\n",
    "display(Image(url=medal.get_image_url()))\n",
    "display(Image(url=medal.get_image_url(mode=\"ribbon\")))"
   ]
  },
  {
   "cell_type": "code",
   "execution_count": 6,
   "metadata": {},
   "outputs": [
    {
     "name": "stdout",
     "output_type": "stream",
     "text": [
      "cn_ztz_99a\n",
      "8\n",
      "33\n"
     ]
    },
    {
     "data": {
      "text/html": [
       "<img src=\"https://cdn.jsdelivr.net/gh/gszabi99/War-Thunder-Datamine@refs/heads/master/atlases.vromfs.bin_u/units/cn_ztz_99a.png\"/>"
      ],
      "text/plain": [
       "<IPython.core.display.Image object>"
      ]
     },
     "metadata": {},
     "output_type": "display_data"
    }
   ],
   "source": [
    "vehicle = await resource_tool.get_vehicle(\"cn_ztz_99a\")\n",
    "print(vehicle.vehicle_id)\n",
    "print(vehicle.rank)\n",
    "print(vehicle.economic_rank_historical)\n",
    "\n",
    "display(Image(url=vehicle.get_icon_url()))"
   ]
  }
 ],
 "metadata": {
  "kernelspec": {
   "display_name": ".venv",
   "language": "python",
   "name": "python3"
  },
  "language_info": {
   "codemirror_mode": {
    "name": "ipython",
    "version": 3
   },
   "file_extension": ".py",
   "mimetype": "text/x-python",
   "name": "python",
   "nbconvert_exporter": "python",
   "pygments_lexer": "ipython3",
   "version": "3.12.4"
  }
 },
 "nbformat": 4,
 "nbformat_minor": 2
}
