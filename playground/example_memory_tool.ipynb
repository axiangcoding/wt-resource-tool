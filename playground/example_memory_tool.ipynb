{
 "cells": [
  {
   "cell_type": "markdown",
   "metadata": {},
   "source": [
    "# Example Python code to demonstrate the use of the `WTResourceToolMemory` class"
   ]
  },
  {
   "cell_type": "code",
   "execution_count": 1,
   "metadata": {},
   "outputs": [],
   "source": [
    "from wt_resource_tool import WTResourceToolMemory\n",
    "\n",
    "resource_tool = WTResourceToolMemory()"
   ]
  },
  {
   "cell_type": "markdown",
   "metadata": {},
   "source": [
    "## Parse and load the data"
   ]
  },
  {
   "cell_type": "code",
   "execution_count": 2,
   "metadata": {},
   "outputs": [
    {
     "name": "stderr",
     "output_type": "stream",
     "text": [
      "\u001b[32m2025-09-18 16:06:10.171\u001b[0m | \u001b[34m\u001b[1mDEBUG   \u001b[0m | \u001b[36mwt_resource_tool._client\u001b[0m:\u001b[36mparse_and_load_data\u001b[0m:\u001b[36m52\u001b[0m - \u001b[34m\u001b[1mParsing player title data from F:\\Projects\\War-Thunder-Datamine\u001b[0m\n",
      "\u001b[32m2025-09-18 16:06:10.221\u001b[0m | \u001b[34m\u001b[1mDEBUG   \u001b[0m | \u001b[36mwt_resource_tool._client\u001b[0m:\u001b[36mparse_and_load_data\u001b[0m:\u001b[36m57\u001b[0m - \u001b[34m\u001b[1mParsing player medal data from F:\\Projects\\War-Thunder-Datamine\u001b[0m\n",
      "\u001b[32m2025-09-18 16:06:10.230\u001b[0m | \u001b[34m\u001b[1mDEBUG   \u001b[0m | \u001b[36mwt_resource_tool._client\u001b[0m:\u001b[36mparse_and_load_data\u001b[0m:\u001b[36m62\u001b[0m - \u001b[34m\u001b[1mParsing vehicle data from F:\\Projects\\War-Thunder-Datamine\u001b[0m\n",
      "\u001b[32m2025-09-18 16:06:10.639\u001b[0m | \u001b[33m\u001b[1mWARNING \u001b[0m | \u001b[36mwt_resource_tool.parser.vehicle_data_parser\u001b[0m:\u001b[36mparse_vehicle_data\u001b[0m:\u001b[36m83\u001b[0m - \u001b[33m\u001b[1mkey economicRankMax is not a dict, so it's not vehicle data, skip\u001b[0m\n",
      "\u001b[32m2025-09-18 16:06:10.882\u001b[0m | \u001b[1mINFO    \u001b[0m | \u001b[36mwt_resource_tool._client\u001b[0m:\u001b[36mparse_and_load_data\u001b[0m:\u001b[36m67\u001b[0m - \u001b[1mParsed and load data ['player_title', 'player_medal', 'vehicle'] in 0.71 seconds\u001b[0m\n"
     ]
    }
   ],
   "source": [
    "import os\n",
    "\n",
    "from dotenv import load_dotenv\n",
    "\n",
    "load_dotenv()\n",
    "\n",
    "local_repo_path = os.environ[\"DATAMINE_REPO_PATH\"]\n",
    "\n",
    "await resource_tool.parse_and_load_data(\n",
    "    data_types=[\"player_title\", \"player_medal\", \"vehicle\"],\n",
    "    local_repo_path=local_repo_path,\n",
    ")"
   ]
  },
  {
   "cell_type": "code",
   "execution_count": 3,
   "metadata": {},
   "outputs": [
    {
     "name": "stdout",
     "output_type": "stream",
     "text": [
      "601\n"
     ]
    }
   ],
   "source": [
    "player_titles = await resource_tool.search_player_title()\n",
    "print(len(player_titles))"
   ]
  },
  {
   "cell_type": "code",
   "execution_count": 4,
   "metadata": {},
   "outputs": [
    {
     "name": "stdout",
     "output_type": "stream",
     "text": [
      "title_god_of_war\n",
      "God of War\n",
      "战争教父\n",
      "2.49.0.10\n"
     ]
    }
   ],
   "source": [
    "title = await resource_tool.get_player_title(\"title_god_of_war\")\n",
    "if title is not None:\n",
    "    print(title.title_id)\n",
    "    print(title.name_i18n.english)\n",
    "    print(title.name_i18n.chinese)\n",
    "    print(title.game_version)"
   ]
  },
  {
   "cell_type": "code",
   "execution_count": 5,
   "metadata": {},
   "outputs": [
    {
     "name": "stdout",
     "output_type": "stream",
     "text": [
      "None\n"
     ]
    }
   ],
   "source": [
    "not_exist_title = await resource_tool.get_player_title(\"title_not_exist\")\n",
    "print(not_exist_title)  # None"
   ]
  },
  {
   "cell_type": "code",
   "execution_count": 6,
   "metadata": {},
   "outputs": [
    {
     "name": "stdout",
     "output_type": "stream",
     "text": [
      "261\n"
     ]
    }
   ],
   "source": [
    "player_medals = await resource_tool.search_player_medal()\n",
    "print(len(player_medals))"
   ]
  },
  {
   "cell_type": "code",
   "execution_count": 7,
   "metadata": {},
   "outputs": [
    {
     "name": "stdout",
     "output_type": "stream",
     "text": [
      "fr_liberated_medal\n",
      "country_france\n",
      "Medal of a liberated France\n",
      "来自受解放法国的感谢奖章\n",
      "2.49.0.10\n",
      "https://cdn.jsdelivr.net/gh/gszabi99/War-Thunder-Datamine@refs/heads/master/atlases.vromfs.bin_u/medals/fr_liberated_medal.png\n",
      "https://cdn.jsdelivr.net/gh/gszabi99/War-Thunder-Datamine@refs/heads/master/atlases.vromfs.bin_u/medals/fr_liberated_medal_ribbon.png\n"
     ]
    },
    {
     "data": {
      "text/html": [
       "<img src=\"https://cdn.jsdelivr.net/gh/gszabi99/War-Thunder-Datamine@refs/heads/master/atlases.vromfs.bin_u/medals/fr_liberated_medal.png\"/>"
      ],
      "text/plain": [
       "<IPython.core.display.Image object>"
      ]
     },
     "metadata": {},
     "output_type": "display_data"
    },
    {
     "data": {
      "text/html": [
       "<img src=\"https://cdn.jsdelivr.net/gh/gszabi99/War-Thunder-Datamine@refs/heads/master/atlases.vromfs.bin_u/medals/fr_liberated_medal_ribbon.png\"/>"
      ],
      "text/plain": [
       "<IPython.core.display.Image object>"
      ]
     },
     "metadata": {},
     "output_type": "display_data"
    }
   ],
   "source": [
    "from IPython.display import Image, display\n",
    "\n",
    "medal = await resource_tool.get_player_medal(\"fr_liberated_medal\")\n",
    "if medal is not None:\n",
    "    print(medal.medal_id)\n",
    "    print(medal.country)\n",
    "    print(medal.name_i18n.english)\n",
    "    print(medal.name_i18n.chinese)\n",
    "    print(medal.game_version)\n",
    "    print(medal.get_image_url())\n",
    "    print(medal.get_image_url(mode=\"ribbon\"))\n",
    "\n",
    "    display(Image(url=medal.get_image_url()))\n",
    "    display(Image(url=medal.get_image_url(mode=\"ribbon\")))"
   ]
  },
  {
   "cell_type": "code",
   "execution_count": 8,
   "metadata": {},
   "outputs": [
    {
     "name": "stdout",
     "output_type": "stream",
     "text": [
      "3097\n"
     ]
    }
   ],
   "source": [
    "vehicles = await resource_tool.search_vehicle()\n",
    "print(len(vehicles))"
   ]
  },
  {
   "cell_type": "code",
   "execution_count": 9,
   "metadata": {},
   "outputs": [
    {
     "name": "stdout",
     "output_type": "stream",
     "text": [
      "cn_ztz_99a\n",
      "ZTZ99A\n",
      "ZTZ99A\n",
      "ZhuangJia Tanke ZhuZhan 99A\n",
      "装甲-坦克-主战 99A 式 (WZ1001)\n",
      "ZTZ99A\n",
      "ZTZ99A\n",
      "MBT\n",
      "主战坦克\n",
      "8\n",
      "33\n",
      "2.49.0.10\n"
     ]
    },
    {
     "data": {
      "text/html": [
       "<img src=\"https://cdn.jsdelivr.net/gh/gszabi99/War-Thunder-Datamine@refs/heads/master/atlases.vromfs.bin_u/units/cn_ztz_99a.png\"/>"
      ],
      "text/plain": [
       "<IPython.core.display.Image object>"
      ]
     },
     "metadata": {},
     "output_type": "display_data"
    }
   ],
   "source": [
    "vehicle = await resource_tool.get_vehicle(\"cn_ztz_99a\")\n",
    "\n",
    "if vehicle is not None:\n",
    "    print(vehicle.vehicle_id)\n",
    "\n",
    "    print(vehicle.name_shop_i18n.english if vehicle.name_shop_i18n else None)\n",
    "    print(vehicle.name_shop_i18n.chinese if vehicle.name_shop_i18n else None)\n",
    "\n",
    "    print(vehicle.name_0_i18n.english if vehicle.name_0_i18n else None)\n",
    "    print(vehicle.name_0_i18n.chinese if vehicle.name_0_i18n else None)\n",
    "\n",
    "    print(vehicle.name_1_i18n.english if vehicle.name_1_i18n else None)\n",
    "    print(vehicle.name_1_i18n.chinese if vehicle.name_1_i18n else None)\n",
    "\n",
    "    print(vehicle.name_2_i18n.english if vehicle.name_2_i18n else None)\n",
    "    print(vehicle.name_2_i18n.chinese if vehicle.name_2_i18n else None)\n",
    "\n",
    "    print(vehicle.rank)\n",
    "    print(vehicle.economic_rank_historical)\n",
    "\n",
    "    print(vehicle.game_version)\n",
    "\n",
    "    display(Image(url=vehicle.get_icon_url()))"
   ]
  }
 ],
 "metadata": {
  "kernelspec": {
   "display_name": ".venv",
   "language": "python",
   "name": "python3"
  },
  "language_info": {
   "codemirror_mode": {
    "name": "ipython",
    "version": 3
   },
   "file_extension": ".py",
   "mimetype": "text/x-python",
   "name": "python",
   "nbconvert_exporter": "python",
   "pygments_lexer": "ipython3",
   "version": "3.12.9"
  }
 },
 "nbformat": 4,
 "nbformat_minor": 2
}
